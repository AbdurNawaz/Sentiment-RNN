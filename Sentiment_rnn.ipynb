{
  "nbformat": 4,
  "nbformat_minor": 0,
  "metadata": {
    "colab": {
      "name": "Sentiment-rnn",
      "provenance": [],
      "collapsed_sections": [],
      "include_colab_link": true
    },
    "kernelspec": {
      "name": "python3",
      "display_name": "Python 3"
    }
  },
  "cells": [
    {
      "cell_type": "markdown",
      "metadata": {
        "id": "view-in-github",
        "colab_type": "text"
      },
      "source": [
        "<a href=\"https://colab.research.google.com/github/AbdurNawaz/Sentiment-RNN/blob/master/Sentiment_rnn.ipynb\" target=\"_parent\"><img src=\"https://colab.research.google.com/assets/colab-badge.svg\" alt=\"Open In Colab\"/></a>"
      ]
    },
    {
      "cell_type": "code",
      "metadata": {
        "id": "b7sZqziM_iJL",
        "colab_type": "code",
        "colab": {}
      },
      "source": [
        "import numpy as np\n",
        "import matplotlib.pyplot as plt\n",
        "import tensorflow as tf\n",
        "from string import punctuation"
      ],
      "execution_count": 0,
      "outputs": []
    },
    {
      "cell_type": "code",
      "metadata": {
        "id": "OwSPp5wP_kHl",
        "colab_type": "code",
        "colab": {}
      },
      "source": [
        "with open('reviews.txt') as f:\n",
        "    reviews = f.read()\n",
        "with open('labels.txt') as f:\n",
        "    labels = f.read()"
      ],
      "execution_count": 0,
      "outputs": []
    },
    {
      "cell_type": "code",
      "metadata": {
        "id": "F_BKSOoQ_3C0",
        "colab_type": "code",
        "colab": {}
      },
      "source": [
        "text = ''.join([c for c in reviews if c not in punctuation])\n",
        "text1 = text.split('\\n')\n",
        "text = ''.join(text1)\n",
        "words = text.split()"
      ],
      "execution_count": 0,
      "outputs": []
    },
    {
      "cell_type": "code",
      "metadata": {
        "id": "WFsh9SmzBYjB",
        "colab_type": "code",
        "colab": {}
      },
      "source": [
        "vocab = sorted(set(words))\n",
        "vocab_to_int = {v: i for i, v in enumerate(vocab, 1)}\n",
        "\n",
        "reviews_int = []\n",
        "for each in text1:\n",
        "  reviews_int.append([vocab_to_int[word] for word in each.split()])"
      ],
      "execution_count": 0,
      "outputs": []
    },
    {
      "cell_type": "code",
      "metadata": {
        "id": "WXCVsfDsBaIZ",
        "colab_type": "code",
        "colab": {}
      },
      "source": [
        "labels = labels.split('\\n')\n",
        "labels = np.array([1 if each is 'positive' else 0 for each in labels])"
      ],
      "execution_count": 0,
      "outputs": []
    },
    {
      "cell_type": "code",
      "metadata": {
        "id": "0PnGN63IE7MH",
        "colab_type": "code",
        "outputId": "7bffa610-a1bf-4540-8768-702a48c5e4ee",
        "colab": {
          "base_uri": "https://localhost:8080/",
          "height": 52
        }
      },
      "source": [
        "from collections import Counter\n",
        "review_lens = Counter([len(x) for x in reviews_int])\n",
        "print(\"Zero-length reviews: {}\".format(review_lens[0]))\n",
        "print(\"Maximum review length: {}\".format(max(review_lens)))"
      ],
      "execution_count": 20,
      "outputs": [
        {
          "output_type": "stream",
          "text": [
            "Zero-length reviews: 1\n",
            "Maximum review length: 2514\n"
          ],
          "name": "stdout"
        }
      ]
    },
    {
      "cell_type": "code",
      "metadata": {
        "id": "H4Ja_dPuE-CM",
        "colab_type": "code",
        "colab": {}
      },
      "source": [
        "#Removing that one zero-length revies to avoid error later\n",
        "indxs = [i for i, each in enumerate(reviews_int) if len(each) != 0]\n",
        "reviews_int = [reviews_int[i] for i in indxs]\n",
        "labels = [labels[i] for i in indxs]"
      ],
      "execution_count": 0,
      "outputs": []
    },
    {
      "cell_type": "code",
      "metadata": {
        "id": "QiI1h1BgJeba",
        "colab_type": "code",
        "colab": {}
      },
      "source": [
        "#Clipping the reviews to 200 length to optimize the network\n",
        "#and pad 0's to all the reviews with length less than 200\n",
        "clip = 200\n",
        "features = np.zeros((len(reviews_int), clip), dtype=int)\n",
        "for i, each in enumerate(reviews_int):\n",
        "  features[i, -len(each):] = np.array(each)[:clip]"
      ],
      "execution_count": 0,
      "outputs": []
    },
    {
      "cell_type": "code",
      "metadata": {
        "id": "TvDoUP1MKDVt",
        "colab_type": "code",
        "colab": {}
      },
      "source": [
        "split_frac = 0.8\n",
        "split_indx = int(len(features)*split_frac)\n",
        "x_train, x_valid = features[:split_indx], features[split_indx:]\n",
        "y_train, y_valid = labels[:split_indx], labels[split_indx:]\n",
        "\n",
        "test_indx = int(len(x_valid)*0.5)\n",
        "x_test, x_valid = x_valid[:test_indx], x_valid[test_indx:]\n",
        "y_test, y_valid = y_valid[:test_indx], y_valid[test_indx:]"
      ],
      "execution_count": 0,
      "outputs": []
    },
    {
      "cell_type": "code",
      "metadata": {
        "id": "GMNFgEMqa8xx",
        "colab_type": "code",
        "colab": {}
      },
      "source": [
        "lstm_size = 256\n",
        "lstm_layers = 1\n",
        "batch_size = 500\n",
        "learning_rate = 0.01"
      ],
      "execution_count": 0,
      "outputs": []
    },
    {
      "cell_type": "code",
      "metadata": {
        "id": "wOaemiMUHyyW",
        "colab_type": "code",
        "colab": {}
      },
      "source": [
        "n_words = len(vocab_to_int) + 1\n",
        "\n",
        "graph = tf.Graph()\n",
        "\n",
        "with graph.as_default():\n",
        "  inputs = tf.placeholder(tf.int32, [None, None], name='inputs')\n",
        "  targets = tf.placeholder(tf.int32, [None, None], name='targets')\n",
        "  keep_prob = tf.placeholder(tf.float32, name='keep_prob')\n",
        "  "
      ],
      "execution_count": 0,
      "outputs": []
    },
    {
      "cell_type": "code",
      "metadata": {
        "id": "xmjN_CSLH1wD",
        "colab_type": "code",
        "colab": {}
      },
      "source": [
        "embedd_size = 200\n",
        "\n",
        "with graph.as_default():\n",
        "  embedding = tf.Variable(tf.random_uniform((n_words, embedd_size), -1, 1))\n",
        "  embedd = tf.nn.embedding_lookup(embedding, inputs)"
      ],
      "execution_count": 0,
      "outputs": []
    },
    {
      "cell_type": "code",
      "metadata": {
        "id": "V5A9LpAdVpUn",
        "colab_type": "code",
        "colab": {
          "base_uri": "https://localhost:8080/",
          "height": 70
        },
        "outputId": "4bb14795-fc8f-43b0-b98a-d2bfdc7daea6"
      },
      "source": [
        "with graph.as_default():\n",
        "  lstm = tf.contrib.rnn.BasicLSTMCell(lstm_size)\n",
        "  drop = tf.contrib.rnn.DropoutWrapper(lstm, output_keep_prob=keep_prob)\n",
        "  cell = tf.contrib.rnn.MultiRNNCell([lstm]*lstm_layers)\n",
        "  initial_state = cell.zero_state(batch_size, tf.float32)\n"
      ],
      "execution_count": 31,
      "outputs": [
        {
          "output_type": "stream",
          "text": [
            "WARNING:tensorflow:From <ipython-input-31-82f4d8fbfed6>:4: MultiRNNCell.__init__ (from tensorflow.python.ops.rnn_cell_impl) is deprecated and will be removed in a future version.\n",
            "Instructions for updating:\n",
            "This class is equivalent as tf.keras.layers.StackedRNNCells, and will be replaced by that in Tensorflow 2.0.\n"
          ],
          "name": "stdout"
        }
      ]
    },
    {
      "cell_type": "code",
      "metadata": {
        "id": "IsUvDHGTWzfq",
        "colab_type": "code",
        "colab": {
          "base_uri": "https://localhost:8080/",
          "height": 196
        },
        "outputId": "b065877f-3c90-44e3-c461-b2d5730d99a2"
      },
      "source": [
        "with graph.as_default():\n",
        "  outputs, final_states = tf.nn.dynamic_rnn(cell, embedd, initial_state=initial_state)\n"
      ],
      "execution_count": 33,
      "outputs": [
        {
          "output_type": "stream",
          "text": [
            "WARNING:tensorflow:From <ipython-input-33-f0a89da7a408>:2: dynamic_rnn (from tensorflow.python.ops.rnn) is deprecated and will be removed in a future version.\n",
            "Instructions for updating:\n",
            "Please use `keras.layers.RNN(cell)`, which is equivalent to this API\n",
            "WARNING:tensorflow:From /usr/local/lib/python3.6/dist-packages/tensorflow_core/python/ops/rnn_cell_impl.py:735: Layer.add_variable (from tensorflow.python.keras.engine.base_layer) is deprecated and will be removed in a future version.\n",
            "Instructions for updating:\n",
            "Please use `layer.add_weight` method instead.\n",
            "WARNING:tensorflow:From /usr/local/lib/python3.6/dist-packages/tensorflow_core/python/ops/rnn_cell_impl.py:739: calling Zeros.__init__ (from tensorflow.python.ops.init_ops) with dtype is deprecated and will be removed in a future version.\n",
            "Instructions for updating:\n",
            "Call initializer instance with the dtype argument instead of passing it to the constructor\n"
          ],
          "name": "stdout"
        }
      ]
    },
    {
      "cell_type": "code",
      "metadata": {
        "id": "D5tD5QhZYLKR",
        "colab_type": "code",
        "colab": {
          "base_uri": "https://localhost:8080/",
          "height": 143
        },
        "outputId": "e573c181-6e1f-4a43-8907-c4222b9d4c91"
      },
      "source": [
        "with graph.as_default():\n",
        "  predictions = tf.contrib.layers.fully_connected(outputs[:, -1], 1, activation_fn=tf.sigmoid)\n",
        "  cost = tf.losses.mean_squared_error(targets, predictions)\n",
        "  optimizer = tf.train.AdamOptimizer(learning_rate=learning_rate).minimize(cost)"
      ],
      "execution_count": 34,
      "outputs": [
        {
          "output_type": "stream",
          "text": [
            "WARNING:tensorflow:From /usr/local/lib/python3.6/dist-packages/tensorflow_core/contrib/layers/python/layers/layers.py:1866: Layer.apply (from tensorflow.python.keras.engine.base_layer) is deprecated and will be removed in a future version.\n",
            "Instructions for updating:\n",
            "Please use `layer.__call__` method instead.\n",
            "WARNING:tensorflow:From /usr/local/lib/python3.6/dist-packages/tensorflow_core/python/ops/losses/losses_impl.py:121: where (from tensorflow.python.ops.array_ops) is deprecated and will be removed in a future version.\n",
            "Instructions for updating:\n",
            "Use tf.where in 2.0, which has the same broadcast rule as np.where\n"
          ],
          "name": "stdout"
        }
      ]
    },
    {
      "cell_type": "code",
      "metadata": {
        "id": "7HH63rLxZIZ3",
        "colab_type": "code",
        "colab": {}
      },
      "source": [
        "with graph.as_default():\n",
        "  correct_pred = tf.equal(tf.cast(tf.round(predictions), tf.int32), targets)\n",
        "  accuracy = tf.reduce_mean(tf.cast(correct_pred, tf.float32))"
      ],
      "execution_count": 0,
      "outputs": []
    },
    {
      "cell_type": "code",
      "metadata": {
        "id": "k_riU2MDZ5jp",
        "colab_type": "code",
        "colab": {}
      },
      "source": [
        "def get_batches(x, y, batch_size=100):\n",
        "  n_batches = len(x)//batch_size\n",
        "  x, y = x[:n_batches*batch_size], y[:n_batches*batch_size]\n",
        "  for i in range(0, len(x), batch_size):\n",
        "    yield x[i:i+batch_size], y[i:i+batch_size]"
      ],
      "execution_count": 0,
      "outputs": []
    },
    {
      "cell_type": "code",
      "metadata": {
        "id": "EhsihS2Ja6It",
        "colab_type": "code",
        "colab": {}
      },
      "source": [
        ""
      ],
      "execution_count": 0,
      "outputs": []
    }
  ]
}